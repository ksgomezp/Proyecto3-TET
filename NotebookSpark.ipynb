{
 "cells": [
  {
   "cell_type": "code",
   "execution_count": 1,
   "metadata": {},
   "outputs": [
    {
     "data": {
      "application/vnd.jupyter.widget-view+json": {
       "model_id": "8a89e5ec78134a55bd1be7e70d4b6a46",
       "version_major": 2,
       "version_minor": 0
      },
      "text/plain": [
       "VBox()"
      ]
     },
     "metadata": {},
     "output_type": "display_data"
    },
    {
     "name": "stdout",
     "output_type": "stream",
     "text": [
      "Starting Spark application\n"
     ]
    },
    {
     "data": {
      "text/html": [
       "<table>\n",
       "<tr><th>ID</th><th>YARN Application ID</th><th>Kind</th><th>State</th><th>Spark UI</th><th>Driver log</th><th>Current session?</th></tr><tr><td>6</td><td>application_1589764007238_0007</td><td>pyspark</td><td>idle</td><td><a target=\"_blank\" href=\"http://ip-172-31-91-59.ec2.internal:20888/proxy/application_1589764007238_0007/\">Link</a></td><td><a target=\"_blank\" href=\"http://ip-172-31-80-42.ec2.internal:8042/node/containerlogs/container_1589764007238_0007_01_000001/livy\">Link</a></td><td>✔</td></tr></table>"
      ],
      "text/plain": [
       "<IPython.core.display.HTML object>"
      ]
     },
     "metadata": {},
     "output_type": "display_data"
    },
    {
     "data": {
      "application/vnd.jupyter.widget-view+json": {
       "model_id": "",
       "version_major": 2,
       "version_minor": 0
      },
      "text/plain": [
       "FloatProgress(value=0.0, bar_style='info', description='Progress:', layout=Layout(height='25px', width='50%'),…"
      ]
     },
     "metadata": {},
     "output_type": "display_data"
    },
    {
     "name": "stdout",
     "output_type": "stream",
     "text": [
      "SparkSession available as 'spark'.\n"
     ]
    },
    {
     "data": {
      "application/vnd.jupyter.widget-view+json": {
       "model_id": "",
       "version_major": 2,
       "version_minor": 0
      },
      "text/plain": [
       "FloatProgress(value=0.0, bar_style='info', description='Progress:', layout=Layout(height='25px', width='50%'),…"
      ]
     },
     "metadata": {},
     "output_type": "display_data"
    },
    {
     "name": "stdout",
     "output_type": "stream",
     "text": [
      "Collecting matplotlib\n",
      "  Using cached matplotlib-3.2.1-cp36-cp36m-manylinux1_x86_64.whl (12.4 MB)\n",
      "Collecting pyparsing!=2.0.4,!=2.1.2,!=2.1.6,>=2.0.1\n",
      "  Using cached pyparsing-2.4.7-py2.py3-none-any.whl (67 kB)\n",
      "Requirement already satisfied: numpy>=1.11 in /usr/local/lib64/python3.6/site-packages (from matplotlib) (1.14.5)\n",
      "Collecting python-dateutil>=2.1\n",
      "  Using cached python_dateutil-2.8.1-py2.py3-none-any.whl (227 kB)\n",
      "Collecting kiwisolver>=1.0.1\n",
      "  Using cached kiwisolver-1.2.0-cp36-cp36m-manylinux1_x86_64.whl (88 kB)\n",
      "Collecting cycler>=0.10\n",
      "  Using cached cycler-0.10.0-py2.py3-none-any.whl (6.5 kB)\n",
      "Requirement already satisfied: six>=1.5 in /usr/local/lib/python3.6/site-packages (from python-dateutil>=2.1->matplotlib) (1.12.0)\n",
      "Installing collected packages: pyparsing, python-dateutil, kiwisolver, cycler, matplotlib\n",
      "Successfully installed cycler-0.10.0 kiwisolver-1.2.0 matplotlib-3.2.1 pyparsing-2.4.7 python-dateutil-2.8.1"
     ]
    }
   ],
   "source": [
    "sc.install_pypi_package(\"matplotlib\")\n",
    "from pyspark.sql import *\n",
    "from pyspark.sql.types import *\n",
    "from pyspark.sql.functions import sum\n",
    "import matplotlib.pyplot as plt\n",
    "import numpy as np"
   ]
  },
  {
   "cell_type": "code",
   "execution_count": 2,
   "metadata": {},
   "outputs": [
    {
     "data": {
      "application/vnd.jupyter.widget-view+json": {
       "model_id": "f7398c02acf84f5392a416888d6be7ad",
       "version_major": 2,
       "version_minor": 0
      },
      "text/plain": [
       "VBox()"
      ]
     },
     "metadata": {},
     "output_type": "display_data"
    },
    {
     "data": {
      "application/vnd.jupyter.widget-view+json": {
       "model_id": "",
       "version_major": 2,
       "version_minor": 0
      },
      "text/plain": [
       "FloatProgress(value=0.0, bar_style='info', description='Progress:', layout=Layout(height='25px', width='50%'),…"
      ]
     },
     "metadata": {},
     "output_type": "display_data"
    },
    {
     "name": "stderr",
     "output_type": "stream",
     "text": [
      "name 'covid_mundial_confirmados' is not defined\n",
      "Traceback (most recent call last):\n",
      "NameError: name 'covid_mundial_confirmados' is not defined\n",
      "\n"
     ]
    }
   ],
   "source": [
    "covid_mundial_confirmados.show()"
   ]
  },
  {
   "cell_type": "code",
   "execution_count": 3,
   "metadata": {},
   "outputs": [
    {
     "data": {
      "application/vnd.jupyter.widget-view+json": {
       "model_id": "971adc3cc0da474d81e9884d41d8c66f",
       "version_major": 2,
       "version_minor": 0
      },
      "text/plain": [
       "VBox()"
      ]
     },
     "metadata": {},
     "output_type": "display_data"
    },
    {
     "data": {
      "application/vnd.jupyter.widget-view+json": {
       "model_id": "",
       "version_major": 2,
       "version_minor": 0
      },
      "text/plain": [
       "FloatProgress(value=0.0, bar_style='info', description='Progress:', layout=Layout(height='25px', width='50%'),…"
      ]
     },
     "metadata": {},
     "output_type": "display_data"
    },
    {
     "name": "stderr",
     "output_type": "stream",
     "text": [
      "name 'covid_colombia' is not defined\n",
      "Traceback (most recent call last):\n",
      "NameError: name 'covid_colombia' is not defined\n",
      "\n"
     ]
    }
   ],
   "source": [
    "covid_colombia.filter(covid_colombia['estado']==\"Fallecido\").filter(covid_colombia['Edad'] > 25).groupBy('Departamento o Distrito ').count().orderBy('count',ascending=False).show()"
   ]
  },
  {
   "cell_type": "code",
   "execution_count": 4,
   "metadata": {},
   "outputs": [
    {
     "data": {
      "application/vnd.jupyter.widget-view+json": {
       "model_id": "d1a3f8b167fe451cb4c92808e50fe056",
       "version_major": 2,
       "version_minor": 0
      },
      "text/plain": [
       "VBox()"
      ]
     },
     "metadata": {},
     "output_type": "display_data"
    },
    {
     "data": {
      "application/vnd.jupyter.widget-view+json": {
       "model_id": "",
       "version_major": 2,
       "version_minor": 0
      },
      "text/plain": [
       "FloatProgress(value=0.0, bar_style='info', description='Progress:', layout=Layout(height='25px', width='50%'),…"
      ]
     },
     "metadata": {},
     "output_type": "display_data"
    }
   ],
   "source": [
    "datasets_s3 = 's3://proyecto3-datasets/datasets'\n",
    "confirmed_global = spark.read.csv(datasets_s3 + '/Mundial/time_series_covid19_confirmed_global.csv', inferSchema=True, header=True)\n",
    "deaths_global = spark.read.csv(datasets_s3 + '/Mundial/time_series_covid19_deaths_global.csv', inferSchema=True, header=True)\n",
    "recovered_global = spark.read.csv(datasets_s3 + '/Mundial/time_series_covid19_recovered_global.csv', inferSchema=True, header=True)"
   ]
  },
  {
   "cell_type": "code",
   "execution_count": 5,
   "metadata": {},
   "outputs": [
    {
     "data": {
      "application/vnd.jupyter.widget-view+json": {
       "model_id": "2fb6fbafa536498280edd776da899f32",
       "version_major": 2,
       "version_minor": 0
      },
      "text/plain": [
       "VBox()"
      ]
     },
     "metadata": {},
     "output_type": "display_data"
    },
    {
     "data": {
      "application/vnd.jupyter.widget-view+json": {
       "model_id": "",
       "version_major": 2,
       "version_minor": 0
      },
      "text/plain": [
       "FloatProgress(value=0.0, bar_style='info', description='Progress:', layout=Layout(height='25px', width='50%'),…"
      ]
     },
     "metadata": {},
     "output_type": "display_data"
    },
    {
     "name": "stdout",
     "output_type": "stream",
     "text": [
      "+--------------+------------+\n",
      "|Country/Region|Active Cases|\n",
      "+--------------+------------+\n",
      "|            US|     1007756|\n",
      "|United Kingdom|      180316|\n",
      "|        Russia|      159528|\n",
      "|        France|       94077|\n",
      "|         Italy|       87961|\n",
      "|        Brazil|       77580|\n",
      "|         Spain|       65410|\n",
      "|        Turkey|       45484|\n",
      "|          Peru|       41121|\n",
      "|         India|       39823|\n",
      "|   Netherlands|       36768|\n",
      "|        Canada|       32738|\n",
      "|       Belgium|       30289|\n",
      "|  Saudi Arabia|       26083|\n",
      "|      Portugal|       23732|\n",
      "|       Ecuador|       23681|\n",
      "|       Germany|       21378|\n",
      "|     Singapore|       19647|\n",
      "|      Pakistan|       18306|\n",
      "|         Qatar|       17819|\n",
      "+--------------+------------+\n",
      "only showing top 20 rows"
     ]
    }
   ],
   "source": [
    "tcg = confirmed_global.groupBy('Country/Region').agg(sum('5/8/20').alias('total')).collect()\n",
    "tdg = deaths_global.groupBy('Country/Region').agg(sum('5/8/20').alias('total')).collect()\n",
    "trg = recovered_global.groupBy('Country/Region').agg(sum('5/8/20').alias('total')).collect()\n",
    "active_cases = []\n",
    "for i in range(len(tcg)):\n",
    "    if tcg[i][0] == tdg[i][0] and trg[i][0] == tdg[i][0]:\n",
    "        total = tcg[i][-1] - tdg[i][-1] - trg[i][-1]\n",
    "        active_cases.append([tcg[i][0], total])\n",
    "    else:\n",
    "        trg[i], trg[i+1] = trg[i+1], trg[i]\n",
    "        total = tcg[i][-1] - tdg[i][-1] - trg[i][-1]\n",
    "        active_cases.append([tcg[i][0], total])\n",
    "        \n",
    "schema = StructType([\n",
    "    StructField('Country/Region', StringType(), True),\n",
    "    StructField('Active Cases', IntegerType(), True),\n",
    "])\n",
    "\n",
    "\n",
    "active_cases = spark.createDataFrame(active_cases, schema)\n",
    "active_cases_order_desc = active_cases.orderBy('Active Cases', ascending=False)\n",
    "active_cases_order_desc.show()"
   ]
  },
  {
   "cell_type": "code",
   "execution_count": 6,
   "metadata": {
    "scrolled": true
   },
   "outputs": [
    {
     "data": {
      "application/vnd.jupyter.widget-view+json": {
       "model_id": "1f28b1a6a74f42a79bd2a69963229140",
       "version_major": 2,
       "version_minor": 0
      },
      "text/plain": [
       "VBox()"
      ]
     },
     "metadata": {},
     "output_type": "display_data"
    },
    {
     "data": {
      "application/vnd.jupyter.widget-view+json": {
       "model_id": "",
       "version_major": 2,
       "version_minor": 0
      },
      "text/plain": [
       "FloatProgress(value=0.0, bar_style='info', description='Progress:', layout=Layout(height='25px', width='50%'),…"
      ]
     },
     "metadata": {},
     "output_type": "display_data"
    },
    {
     "name": "stdout",
     "output_type": "stream",
     "text": [
      "Text(0, 0.5, 'Casos')"
     ]
    }
   ],
   "source": [
    "paises = [country['Country/Region'] for country in active_cases_order_desc.select('Country/Region').collect()]\n",
    "recuperados = [country['Active Cases'] for country in active_cases_order_desc.select('Active Cases').collect()]\n",
    "\n",
    "plt.switch_backend(\"agg\")\n",
    "fig, axs = plt.subplots(figsize=(18, 5))\n",
    "axs.bar(paises[:15], recuperados[:15])\n",
    "axs.invert_xaxis()\n",
    "fig.suptitle('Casos activos por país')\n",
    "plt.xlabel('País')\n",
    "plt.ylabel('Casos')"
   ]
  },
  {
   "cell_type": "code",
   "execution_count": 7,
   "metadata": {
    "scrolled": true
   },
   "outputs": [
    {
     "data": {
      "application/vnd.jupyter.widget-view+json": {
       "model_id": "",
       "version_major": 2,
       "version_minor": 0
      },
      "text/plain": [
       "FloatProgress(value=0.0, bar_style='info', description='Progress:', layout=Layout(height='25px', width='50%'),…"
      ]
     },
     "metadata": {},
     "output_type": "display_data"
    },
    {
     "data": {
      "image/png": "[encoded data removed]",
      "text/plain": [
       "<IPython.core.display.Image object>"
      ]
     },
     "metadata": {},
     "output_type": "display_data"
    }
   ],
   "source": [
    "%matplot plt"
   ]
  },
  {
   "cell_type": "code",
   "execution_count": 8,
   "metadata": {},
   "outputs": [
    {
     "data": {
      "application/vnd.jupyter.widget-view+json": {
       "model_id": "464f9e30b9b54dc58286cb47b9d5d17d",
       "version_major": 2,
       "version_minor": 0
      },
      "text/plain": [
       "VBox()"
      ]
     },
     "metadata": {},
     "output_type": "display_data"
    },
    {
     "data": {
      "application/vnd.jupyter.widget-view+json": {
       "model_id": "",
       "version_major": 2,
       "version_minor": 0
      },
      "text/plain": [
       "FloatProgress(value=0.0, bar_style='info', description='Progress:', layout=Layout(height='25px', width='50%'),…"
      ]
     },
     "metadata": {},
     "output_type": "display_data"
    }
   ],
   "source": [
    "colombia_data = spark.read.csv('s3://covidcs/datasets/colombia/Covid-19 Colombia.csv', inferSchema=True, header=True)"
   ]
  },
  {
   "cell_type": "code",
   "execution_count": 9,
   "metadata": {},
   "outputs": [
    {
     "data": {
      "application/vnd.jupyter.widget-view+json": {
       "model_id": "51a2e88e8c3d42808af1436cd8438733",
       "version_major": 2,
       "version_minor": 0
      },
      "text/plain": [
       "VBox()"
      ]
     },
     "metadata": {},
     "output_type": "display_data"
    },
    {
     "data": {
      "application/vnd.jupyter.widget-view+json": {
       "model_id": "",
       "version_major": 2,
       "version_minor": 0
      },
      "text/plain": [
       "FloatProgress(value=0.0, bar_style='info', description='Progress:', layout=Layout(height='25px', width='50%'),…"
      ]
     },
     "metadata": {},
     "output_type": "display_data"
    },
    {
     "name": "stdout",
     "output_type": "stream",
     "text": [
      "428"
     ]
    }
   ],
   "source": [
    "deaths_colombia = colombia_data.filter(colombia_data['estado'] == 'Fallecido').select('estado', 'sexo','edad')\n",
    "deaths_colombia.count()"
   ]
  },
  {
   "cell_type": "code",
   "execution_count": 10,
   "metadata": {},
   "outputs": [
    {
     "data": {
      "application/vnd.jupyter.widget-view+json": {
       "model_id": "ae2d360be957419198bbd12a553e4a40",
       "version_major": 2,
       "version_minor": 0
      },
      "text/plain": [
       "VBox()"
      ]
     },
     "metadata": {},
     "output_type": "display_data"
    },
    {
     "data": {
      "application/vnd.jupyter.widget-view+json": {
       "model_id": "",
       "version_major": 2,
       "version_minor": 0
      },
      "text/plain": [
       "FloatProgress(value=0.0, bar_style='info', description='Progress:', layout=Layout(height='25px', width='50%'),…"
      ]
     },
     "metadata": {},
     "output_type": "display_data"
    },
    {
     "name": "stdout",
     "output_type": "stream",
     "text": [
      "Text(0, 0.5, 'Muertes')"
     ]
    }
   ],
   "source": [
    "edadMuerte = deaths_colombia.groupBy('edad').count().orderBy('edad', ascending=True)\n",
    "\n",
    "edad = [country['edad'] for country in edadMuerte.select('edad').collect()]\n",
    "muertes = [country['count'] for country in edadMuerte.select('count').collect()]\n",
    "\n",
    "fig, axs = plt.subplots(figsize=(20, 5))\n",
    "axs.bar(edad[:15], muertes[:15])\n",
    "fig.suptitle('Muertes por edad en Colombia entre 0 y 30 años')\n",
    "plt.xlabel('Edad')\n",
    "plt.ylabel('Muertes')\n"
   ]
  },
  {
   "cell_type": "code",
   "execution_count": 11,
   "metadata": {},
   "outputs": [
    {
     "data": {
      "application/vnd.jupyter.widget-view+json": {
       "model_id": "",
       "version_major": 2,
       "version_minor": 0
      },
      "text/plain": [
       "FloatProgress(value=0.0, bar_style='info', description='Progress:', layout=Layout(height='25px', width='50%'),…"
      ]
     },
     "metadata": {},
     "output_type": "display_data"
    },
    {
     "data": {
      "image/png": "[encoded data removed]",
      "text/plain": [
       "<IPython.core.display.Image object>"
      ]
     },
     "metadata": {},
     "output_type": "display_data"
    }
   ],
   "source": [
    "%matplot plt"
   ]
  },
  {
   "cell_type": "code",
   "execution_count": 12,
   "metadata": {},
   "outputs": [
    {
     "data": {
      "application/vnd.jupyter.widget-view+json": {
       "model_id": "1bdb0384794a449480251ca68415285b",
       "version_major": 2,
       "version_minor": 0
      },
      "text/plain": [
       "VBox()"
      ]
     },
     "metadata": {},
     "output_type": "display_data"
    },
    {
     "data": {
      "application/vnd.jupyter.widget-view+json": {
       "model_id": "",
       "version_major": 2,
       "version_minor": 0
      },
      "text/plain": [
       "FloatProgress(value=0.0, bar_style='info', description='Progress:', layout=Layout(height='25px', width='50%'),…"
      ]
     },
     "metadata": {},
     "output_type": "display_data"
    },
    {
     "name": "stdout",
     "output_type": "stream",
     "text": [
      "Text(0, 0.5, 'Colombia')"
     ]
    }
   ],
   "source": [
    "globalConfirmado = confirmed_global.collect()\n",
    "\n",
    "plotGlobal = []\n",
    "plotColombia = []\n",
    "\n",
    "for i in range(4, len(globalConfirmado[0])):\n",
    "    cases_col = 0\n",
    "    cases_glo = 0\n",
    "    for j in range(0, len(globalConfirmado)):\n",
    "        if globalConfirmado[j][1] == 'Colombia':\n",
    "            cases_col = cases_col + globalConfirmado[j][i]\n",
    "        else:\n",
    "            cases_glo = cases_glo + globalConfirmado[j][i]\n",
    "    plotGlobal.append(cases_glo)\n",
    "    plotColombia.append(cases_col)\n",
    "       \n",
    "        \n",
    "x1 = list(range(1, len(globalConfirmado[0]) - 3))\n",
    "\n",
    "y1 = plotGlobal\n",
    "y2 = plotColombia\n",
    "\n",
    "plt.clf()\n",
    "plt.subplot(2, 1, 1)\n",
    "plt.plot(x1, y1, '.-')\n",
    "plt.title('Casos confirmados')\n",
    "plt.ylabel('Global')\n",
    "\n",
    "plt.subplot(2, 1, 2)\n",
    "plt.plot(x1, y2, '.-')\n",
    "plt.xlabel('Día')\n",
    "plt.ylabel('Colombia')"
   ]
  },
  {
   "cell_type": "code",
   "execution_count": 13,
   "metadata": {},
   "outputs": [
    {
     "data": {
      "application/vnd.jupyter.widget-view+json": {
       "model_id": "",
       "version_major": 2,
       "version_minor": 0
      },
      "text/plain": [
       "FloatProgress(value=0.0, bar_style='info', description='Progress:', layout=Layout(height='25px', width='50%'),…"
      ]
     },
     "metadata": {},
     "output_type": "display_data"
    },
    {
     "data": {
      "image/png": "[encoded data removed]",
      "text/plain": [
       "<IPython.core.display.Image object>"
      ]
     },
     "metadata": {},
     "output_type": "display_data"
    }
   ],
   "source": [
    "%matplot plt"
   ]
  }
 ],
 "metadata": {
  "kernelspec": {
   "display_name": "PySpark",
   "language": "",
   "name": "pysparkkernel"
  },
  "language_info": {
   "codemirror_mode": {
    "name": "python",
    "version": 2
   },
   "mimetype": "text/x-python",
   "name": "pyspark",
   "pygments_lexer": "python2"
  }
 },
 "nbformat": 4,
 "nbformat_minor": 4
}
